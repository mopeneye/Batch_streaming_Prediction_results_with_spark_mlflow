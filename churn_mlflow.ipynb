{
 "cells": [
  {
   "cell_type": "code",
   "execution_count": 1,
   "id": "becoming-favorite",
   "metadata": {},
   "outputs": [],
   "source": [
    "from pyspark.ml.evaluation import  BinaryClassificationEvaluator\n",
    "from pyspark.sql import SparkSession, functions as F\n",
    "from pyspark.ml.feature import VectorAssembler\n",
    "from pyspark.ml.classification import RandomForestClassifier\n",
    "from pyspark.ml import Pipeline\n",
    "import mlflow\n",
    "import mlflow.spark\n",
    "import pandas as pd\n",
    "import os\n",
    "import numpy as np\n",
    "from pyspark.ml.tuning import ParamGridBuilder\n",
    "from pyspark.ml.feature import StringIndexer\n",
    "from pyspark.ml.feature import OneHotEncoder"
   ]
  },
  {
   "cell_type": "code",
   "execution_count": 2,
   "id": "actual-jesus",
   "metadata": {},
   "outputs": [],
   "source": [
    "pd.set_option('display.max_columns',None)\n",
    "pd.set_option('display.max_rows',None)"
   ]
  },
  {
   "cell_type": "code",
   "execution_count": 3,
   "id": "secret-bridges",
   "metadata": {},
   "outputs": [
    {
     "name": "stderr",
     "output_type": "stream",
     "text": [
      "/home/train/venvspark/lib/python3.6/site-packages/pyspark/sql/context.py:77: DeprecationWarning: Deprecated in 3.0.0. Use SparkSession.builder.getOrCreate() instead.\n",
      "  DeprecationWarning)\n"
     ]
    }
   ],
   "source": [
    "import findspark\n",
    "findspark.init(\"/opt/manual/spark/\")\n",
    "\n",
    "spark = (SparkSession.builder\n",
    "         .appName(\"Spark Churn Prediction with Random Forest Model\")\n",
    "         .master(\"yarn\")\n",
    "         .getOrCreate())"
   ]
  },
  {
   "cell_type": "code",
   "execution_count": 4,
   "id": "fifteen-sterling",
   "metadata": {},
   "outputs": [],
   "source": [
    "df = (spark\n",
    "      .read\n",
    "      .format(\"csv\")\n",
    "      .option(\"inferSchema\",True)\n",
    "      .option(\"header\", True)\n",
    "      .option(\"sep\",\",\")\n",
    "      .load(\"hdfs://localhost:9000/user/train/datasets/churn.csv\"))"
   ]
  },
  {
   "cell_type": "code",
   "execution_count": 5,
   "id": "hawaiian-gothic",
   "metadata": {},
   "outputs": [
    {
     "data": {
      "text/html": [
       "<div>\n",
       "<style scoped>\n",
       "    .dataframe tbody tr th:only-of-type {\n",
       "        vertical-align: middle;\n",
       "    }\n",
       "\n",
       "    .dataframe tbody tr th {\n",
       "        vertical-align: top;\n",
       "    }\n",
       "\n",
       "    .dataframe thead th {\n",
       "        text-align: right;\n",
       "    }\n",
       "</style>\n",
       "<table border=\"1\" class=\"dataframe\">\n",
       "  <thead>\n",
       "    <tr style=\"text-align: right;\">\n",
       "      <th></th>\n",
       "      <th>RowNumber</th>\n",
       "      <th>CustomerId</th>\n",
       "      <th>Surname</th>\n",
       "      <th>CreditScore</th>\n",
       "      <th>Geography</th>\n",
       "      <th>Gender</th>\n",
       "      <th>Age</th>\n",
       "      <th>Tenure</th>\n",
       "      <th>Balance</th>\n",
       "      <th>NumOfProducts</th>\n",
       "      <th>HasCrCard</th>\n",
       "      <th>IsActiveMember</th>\n",
       "      <th>EstimatedSalary</th>\n",
       "      <th>Exited</th>\n",
       "    </tr>\n",
       "  </thead>\n",
       "  <tbody>\n",
       "    <tr>\n",
       "      <th>0</th>\n",
       "      <td>1</td>\n",
       "      <td>15634602</td>\n",
       "      <td>Hargrave</td>\n",
       "      <td>619</td>\n",
       "      <td>France</td>\n",
       "      <td>Female</td>\n",
       "      <td>42</td>\n",
       "      <td>2</td>\n",
       "      <td>0.00</td>\n",
       "      <td>1</td>\n",
       "      <td>1</td>\n",
       "      <td>1</td>\n",
       "      <td>101348.88</td>\n",
       "      <td>1</td>\n",
       "    </tr>\n",
       "    <tr>\n",
       "      <th>1</th>\n",
       "      <td>2</td>\n",
       "      <td>15647311</td>\n",
       "      <td>Hill</td>\n",
       "      <td>608</td>\n",
       "      <td>Spain</td>\n",
       "      <td>Female</td>\n",
       "      <td>41</td>\n",
       "      <td>1</td>\n",
       "      <td>83807.86</td>\n",
       "      <td>1</td>\n",
       "      <td>0</td>\n",
       "      <td>1</td>\n",
       "      <td>112542.58</td>\n",
       "      <td>0</td>\n",
       "    </tr>\n",
       "    <tr>\n",
       "      <th>2</th>\n",
       "      <td>3</td>\n",
       "      <td>15619304</td>\n",
       "      <td>Onio</td>\n",
       "      <td>502</td>\n",
       "      <td>France</td>\n",
       "      <td>Female</td>\n",
       "      <td>42</td>\n",
       "      <td>8</td>\n",
       "      <td>159660.80</td>\n",
       "      <td>3</td>\n",
       "      <td>1</td>\n",
       "      <td>0</td>\n",
       "      <td>113931.57</td>\n",
       "      <td>1</td>\n",
       "    </tr>\n",
       "    <tr>\n",
       "      <th>3</th>\n",
       "      <td>4</td>\n",
       "      <td>15701354</td>\n",
       "      <td>Boni</td>\n",
       "      <td>699</td>\n",
       "      <td>France</td>\n",
       "      <td>Female</td>\n",
       "      <td>39</td>\n",
       "      <td>1</td>\n",
       "      <td>0.00</td>\n",
       "      <td>2</td>\n",
       "      <td>0</td>\n",
       "      <td>0</td>\n",
       "      <td>93826.63</td>\n",
       "      <td>0</td>\n",
       "    </tr>\n",
       "    <tr>\n",
       "      <th>4</th>\n",
       "      <td>5</td>\n",
       "      <td>15737888</td>\n",
       "      <td>Mitchell</td>\n",
       "      <td>850</td>\n",
       "      <td>Spain</td>\n",
       "      <td>Female</td>\n",
       "      <td>43</td>\n",
       "      <td>2</td>\n",
       "      <td>125510.82</td>\n",
       "      <td>1</td>\n",
       "      <td>1</td>\n",
       "      <td>1</td>\n",
       "      <td>79084.10</td>\n",
       "      <td>0</td>\n",
       "    </tr>\n",
       "    <tr>\n",
       "      <th>5</th>\n",
       "      <td>6</td>\n",
       "      <td>15574012</td>\n",
       "      <td>Chu</td>\n",
       "      <td>645</td>\n",
       "      <td>Spain</td>\n",
       "      <td>Male</td>\n",
       "      <td>44</td>\n",
       "      <td>8</td>\n",
       "      <td>113755.78</td>\n",
       "      <td>2</td>\n",
       "      <td>1</td>\n",
       "      <td>0</td>\n",
       "      <td>149756.71</td>\n",
       "      <td>1</td>\n",
       "    </tr>\n",
       "    <tr>\n",
       "      <th>6</th>\n",
       "      <td>7</td>\n",
       "      <td>15592531</td>\n",
       "      <td>Bartlett</td>\n",
       "      <td>822</td>\n",
       "      <td>France</td>\n",
       "      <td>Male</td>\n",
       "      <td>50</td>\n",
       "      <td>7</td>\n",
       "      <td>0.00</td>\n",
       "      <td>2</td>\n",
       "      <td>1</td>\n",
       "      <td>1</td>\n",
       "      <td>10062.80</td>\n",
       "      <td>0</td>\n",
       "    </tr>\n",
       "    <tr>\n",
       "      <th>7</th>\n",
       "      <td>8</td>\n",
       "      <td>15656148</td>\n",
       "      <td>Obinna</td>\n",
       "      <td>376</td>\n",
       "      <td>Germany</td>\n",
       "      <td>Female</td>\n",
       "      <td>29</td>\n",
       "      <td>4</td>\n",
       "      <td>115046.74</td>\n",
       "      <td>4</td>\n",
       "      <td>1</td>\n",
       "      <td>0</td>\n",
       "      <td>119346.88</td>\n",
       "      <td>1</td>\n",
       "    </tr>\n",
       "    <tr>\n",
       "      <th>8</th>\n",
       "      <td>9</td>\n",
       "      <td>15792365</td>\n",
       "      <td>He</td>\n",
       "      <td>501</td>\n",
       "      <td>France</td>\n",
       "      <td>Male</td>\n",
       "      <td>44</td>\n",
       "      <td>4</td>\n",
       "      <td>142051.07</td>\n",
       "      <td>2</td>\n",
       "      <td>0</td>\n",
       "      <td>1</td>\n",
       "      <td>74940.50</td>\n",
       "      <td>0</td>\n",
       "    </tr>\n",
       "    <tr>\n",
       "      <th>9</th>\n",
       "      <td>10</td>\n",
       "      <td>15592389</td>\n",
       "      <td>H?</td>\n",
       "      <td>684</td>\n",
       "      <td>France</td>\n",
       "      <td>Male</td>\n",
       "      <td>27</td>\n",
       "      <td>2</td>\n",
       "      <td>134603.88</td>\n",
       "      <td>1</td>\n",
       "      <td>1</td>\n",
       "      <td>1</td>\n",
       "      <td>71725.73</td>\n",
       "      <td>0</td>\n",
       "    </tr>\n",
       "  </tbody>\n",
       "</table>\n",
       "</div>"
      ],
      "text/plain": [
       "   RowNumber  CustomerId   Surname  CreditScore Geography  Gender  Age  \\\n",
       "0          1    15634602  Hargrave          619    France  Female   42   \n",
       "1          2    15647311      Hill          608     Spain  Female   41   \n",
       "2          3    15619304      Onio          502    France  Female   42   \n",
       "3          4    15701354      Boni          699    France  Female   39   \n",
       "4          5    15737888  Mitchell          850     Spain  Female   43   \n",
       "5          6    15574012       Chu          645     Spain    Male   44   \n",
       "6          7    15592531  Bartlett          822    France    Male   50   \n",
       "7          8    15656148    Obinna          376   Germany  Female   29   \n",
       "8          9    15792365        He          501    France    Male   44   \n",
       "9         10    15592389        H?          684    France    Male   27   \n",
       "\n",
       "   Tenure    Balance  NumOfProducts  HasCrCard  IsActiveMember  \\\n",
       "0       2       0.00              1          1               1   \n",
       "1       1   83807.86              1          0               1   \n",
       "2       8  159660.80              3          1               0   \n",
       "3       1       0.00              2          0               0   \n",
       "4       2  125510.82              1          1               1   \n",
       "5       8  113755.78              2          1               0   \n",
       "6       7       0.00              2          1               1   \n",
       "7       4  115046.74              4          1               0   \n",
       "8       4  142051.07              2          0               1   \n",
       "9       2  134603.88              1          1               1   \n",
       "\n",
       "   EstimatedSalary  Exited  \n",
       "0        101348.88       1  \n",
       "1        112542.58       0  \n",
       "2        113931.57       1  \n",
       "3         93826.63       0  \n",
       "4         79084.10       0  \n",
       "5        149756.71       1  \n",
       "6         10062.80       0  \n",
       "7        119346.88       1  \n",
       "8         74940.50       0  \n",
       "9         71725.73       0  "
      ]
     },
     "execution_count": 5,
     "metadata": {},
     "output_type": "execute_result"
    }
   ],
   "source": [
    "df.limit(10).toPandas()"
   ]
  },
  {
   "cell_type": "code",
   "execution_count": 6,
   "id": "vocal-disposition",
   "metadata": {},
   "outputs": [
    {
     "name": "stdout",
     "output_type": "stream",
     "text": [
      "root\n",
      " |-- RowNumber: integer (nullable = true)\n",
      " |-- CustomerId: integer (nullable = true)\n",
      " |-- Surname: string (nullable = true)\n",
      " |-- CreditScore: integer (nullable = true)\n",
      " |-- Geography: string (nullable = true)\n",
      " |-- Gender: string (nullable = true)\n",
      " |-- Age: integer (nullable = true)\n",
      " |-- Tenure: integer (nullable = true)\n",
      " |-- Balance: double (nullable = true)\n",
      " |-- NumOfProducts: integer (nullable = true)\n",
      " |-- HasCrCard: integer (nullable = true)\n",
      " |-- IsActiveMember: integer (nullable = true)\n",
      " |-- EstimatedSalary: double (nullable = true)\n",
      " |-- Exited: integer (nullable = true)\n",
      "\n"
     ]
    }
   ],
   "source": [
    "df.printSchema()"
   ]
  },
  {
   "cell_type": "code",
   "execution_count": 7,
   "id": "atomic-ordering",
   "metadata": {},
   "outputs": [],
   "source": [
    "# Missing Value & hidden missing value Control\n",
    "\n",
    "for(col_name, col_type) in zip(df.columns, df.dtypes):\n",
    "    null_count = df.filter( (F.col(col_name).isNull()) | (F.col(col_name) == \"\")).count()\n",
    "    if(  null_count > 0 ):\n",
    "        print(\"{} {} type has {} null values\".format(col_name, col_type[1], null_count))"
   ]
  },
  {
   "cell_type": "code",
   "execution_count": 8,
   "id": "peripheral-jonathan",
   "metadata": {},
   "outputs": [
    {
     "name": "stdout",
     "output_type": "stream",
     "text": [
      "+------+-----+\n",
      "|Exited|count|\n",
      "+------+-----+\n",
      "|     1| 2037|\n",
      "|     0| 7963|\n",
      "+------+-----+\n",
      "\n"
     ]
    }
   ],
   "source": [
    "df.select(\"Exited\").groupBy(\"Exited\").count().show()"
   ]
  },
  {
   "cell_type": "code",
   "execution_count": 9,
   "id": "intense-prior",
   "metadata": {},
   "outputs": [
    {
     "data": {
      "image/png": "[encoded data removed]",
      "text/plain": [
       "<Figure size 432x288 with 1 Axes>"
      ]
     },
     "metadata": {
      "needs_background": "light"
     },
     "output_type": "display_data"
    }
   ],
   "source": [
    "df.select(\"Exited\").groupBy(\"Exited\").count().toPandas().plot(kind='bar');"
   ]
  },
  {
   "cell_type": "code",
   "execution_count": 10,
   "id": "composite-handle",
   "metadata": {},
   "outputs": [
    {
     "name": "stdout",
     "output_type": "stream",
     "text": [
      "mlflow tracking_uri: http://localhost:5000/\n"
     ]
    }
   ],
   "source": [
    "mlflow.set_tracking_uri('http://localhost:5000/')\n",
    "print(\"mlflow tracking_uri: \" + mlflow.tracking.get_tracking_uri())"
   ]
  },
  {
   "cell_type": "code",
   "execution_count": 11,
   "id": "accepted-brooks",
   "metadata": {},
   "outputs": [],
   "source": [
    "mlflow.set_experiment(\"Spark Churn Prediction with Random Forest Model1\")"
   ]
  },
  {
   "cell_type": "code",
   "execution_count": 12,
   "id": "velvet-central",
   "metadata": {},
   "outputs": [],
   "source": [
    "categoric_cols = []\n",
    "numeric_cols = []\n",
    "discarted_cols = []\n",
    "label_col = []\n",
    "\n",
    "# column seperation\n",
    "for col_name in df.dtypes:\n",
    "    if (col_name[0] not in []):\n",
    "        if (col_name[1] == 'string'):\n",
    "            categoric_cols.append(col_name[0])\n",
    "        else:\n",
    "            numeric_cols.append(col_name[0])"
   ]
  },
  {
   "cell_type": "code",
   "execution_count": 13,
   "id": "afraid-viewer",
   "metadata": {},
   "outputs": [
    {
     "name": "stdout",
     "output_type": "stream",
     "text": [
      "+--------+----------+\n",
      "| Surname|TotalCount|\n",
      "+--------+----------+\n",
      "|   Smith|        32|\n",
      "|  Martin|        29|\n",
      "|   Scott|        29|\n",
      "|  Walker|        28|\n",
      "|   Brown|        26|\n",
      "|    Shih|        25|\n",
      "|     Yeh|        25|\n",
      "|Genovese|        25|\n",
      "|  Wright|        24|\n",
      "| Maclean|        24|\n",
      "|  Wilson|        23|\n",
      "|      Ma|        23|\n",
      "| Fanucci|        23|\n",
      "|   White|        23|\n",
      "|     Chu|        22|\n",
      "|   Moore|        22|\n",
      "|    Wang|        22|\n",
      "|      Lu|        22|\n",
      "| Johnson|        22|\n",
      "|McGregor|        21|\n",
      "+--------+----------+\n",
      "only showing top 20 rows\n",
      "\n",
      "+---------+----------+\n",
      "|Geography|TotalCount|\n",
      "+---------+----------+\n",
      "|   France|      5014|\n",
      "|  Germany|      2509|\n",
      "|    Spain|      2477|\n",
      "+---------+----------+\n",
      "\n",
      "+------+----------+\n",
      "|Gender|TotalCount|\n",
      "+------+----------+\n",
      "|  Male|      5457|\n",
      "|Female|      4543|\n",
      "+------+----------+\n",
      "\n"
     ]
    }
   ],
   "source": [
    "for col_name in categoric_cols:\n",
    "    df.groupBy(col_name).agg(F.count(\"*\").alias(\"TotalCount\")).orderBy(F.desc(\"TotalCount\")).show()"
   ]
  },
  {
   "cell_type": "code",
   "execution_count": 14,
   "id": "superior-oklahoma",
   "metadata": {},
   "outputs": [],
   "source": [
    "# column seperation after analysis\n",
    "categoric_cols = []\n",
    "numeric_cols = []\n",
    "# Why we discard these? Because they have high cardinality. In other words they have too many distinct categories\n",
    "# Adding them to model will not do good if not too bad.\n",
    "discarted_cols = ['RowNumber', 'CustomerId', 'Surname']\n",
    "label_col = ['Exited']"
   ]
  },
  {
   "cell_type": "code",
   "execution_count": 15,
   "id": "drawn-superior",
   "metadata": {},
   "outputs": [],
   "source": [
    "for col_name in df.dtypes:\n",
    "    if (col_name[0] not in discarted_cols+label_col):\n",
    "        if (col_name[1] == 'string'):\n",
    "            categoric_cols.append(col_name[0])\n",
    "        else: numeric_cols.append(col_name[0])"
   ]
  },
  {
   "cell_type": "code",
   "execution_count": 16,
   "id": "sized-excitement",
   "metadata": {},
   "outputs": [
    {
     "name": "stdout",
     "output_type": "stream",
     "text": [
      "['CreditScore', 'Age', 'Tenure', 'Balance', 'NumOfProducts', 'HasCrCard', 'IsActiveMember', 'EstimatedSalary']\n",
      "8\n"
     ]
    }
   ],
   "source": [
    "print(numeric_cols)\n",
    "print(len(numeric_cols))\n"
   ]
  },
  {
   "cell_type": "code",
   "execution_count": 17,
   "id": "solid-framing",
   "metadata": {},
   "outputs": [
    {
     "name": "stdout",
     "output_type": "stream",
     "text": [
      "['RowNumber', 'CustomerId', 'Surname', 'Exited']\n",
      "4\n"
     ]
    }
   ],
   "source": [
    "print(discarted_cols+label_col)\n",
    "print(len(discarted_cols+label_col))"
   ]
  },
  {
   "cell_type": "code",
   "execution_count": 18,
   "id": "satellite-phoenix",
   "metadata": {},
   "outputs": [
    {
     "name": "stdout",
     "output_type": "stream",
     "text": [
      "Columns verified\n"
     ]
    }
   ],
   "source": [
    "if len(df.columns) == (len(categoric_cols)+len(numeric_cols)+len(discarted_cols+label_col)):\n",
    "    print(\"Columns verified\")\n",
    "else: print(\"Columns are not verified\")"
   ]
  },
  {
   "cell_type": "code",
   "execution_count": 19,
   "id": "experienced-coating",
   "metadata": {},
   "outputs": [
    {
     "name": "stdout",
     "output_type": "stream",
     "text": [
      "Geography has 3 distinct category.\n",
      "Gender has 2 distinct category.\n"
     ]
    }
   ],
   "source": [
    "# Here we count the distinct categories in categoric columns. If there is more than two,\n",
    "# we will add those to to_be_onehotencoded_cols list If there is just 2 we don't need to use onehotencoder\n",
    "# So if distinct category gt 2 we have to add it to_be_onehotencoded_cols list\n",
    "to_be_onehotencoded_cols = []\n",
    "\n",
    "for col_name in categoric_cols:\n",
    "    count = df.select(col_name).distinct().count()\n",
    "    if count > 2:\n",
    "        to_be_onehotencoded_cols.append(col_name)\n",
    "    print(\"{} has {} distinct category.\".format(col_name, count))"
   ]
  },
  {
   "cell_type": "code",
   "execution_count": 20,
   "id": "desirable-vatican",
   "metadata": {},
   "outputs": [
    {
     "name": "stdout",
     "output_type": "stream",
     "text": [
      "['Geography']\n"
     ]
    }
   ],
   "source": [
    "print(to_be_onehotencoded_cols)"
   ]
  },
  {
   "cell_type": "code",
   "execution_count": 21,
   "id": "literary-semester",
   "metadata": {},
   "outputs": [],
   "source": [
    "# Will hold stringIndexer objects and column names\n",
    "my_dict = {}\n",
    "\n",
    "# Will collect StringIndexer ojects\n",
    "string_indexer_objs = []\n",
    "\n",
    "# Will collect StringIndexer output colnames\n",
    "string_indexer_output_names = []\n",
    "\n",
    "# Will collect OneHotEncoder output colnames\n",
    "ohe_col_input_names = []\n",
    "ohe_col_output_names = []\n",
    "\n",
    "for col_name in categoric_cols:\n",
    "    my_dict[col_name+\"_indexobj\"] = StringIndexer() \\\n",
    "    .setHandleInvalid('skip') \\\n",
    "    .setInputCol(col_name) \\\n",
    "    .setOutputCol(col_name+\"_indexed\")\n",
    "    \n",
    "    string_indexer_objs.append(my_dict.get(col_name+\"_indexobj\"))\n",
    "    string_indexer_output_names.append(col_name+\"_indexed\")\n",
    "    if col_name in to_be_onehotencoded_cols:\n",
    "        ohe_col_input_names.append(col_name+\"_indexed\")\n",
    "        ohe_col_output_names.append(col_name+\"_ohe\")"
   ]
  },
  {
   "cell_type": "code",
   "execution_count": 22,
   "id": "unknown-baker",
   "metadata": {},
   "outputs": [
    {
     "name": "stdout",
     "output_type": "stream",
     "text": [
      "[StringIndexer_40ba617d6ff7, StringIndexer_8198bd2c0d3a]\n",
      "2\n"
     ]
    }
   ],
   "source": [
    "print(string_indexer_objs)\n",
    "print(len(string_indexer_objs))"
   ]
  },
  {
   "cell_type": "code",
   "execution_count": 23,
   "id": "relevant-poster",
   "metadata": {},
   "outputs": [
    {
     "name": "stdout",
     "output_type": "stream",
     "text": [
      "['Geography_indexed', 'Gender_indexed']\n",
      "2\n"
     ]
    }
   ],
   "source": [
    "print(string_indexer_output_names)\n",
    "print(len(string_indexer_output_names))"
   ]
  },
  {
   "cell_type": "code",
   "execution_count": 24,
   "id": "enhanced-infrared",
   "metadata": {},
   "outputs": [
    {
     "name": "stdout",
     "output_type": "stream",
     "text": [
      "['Geography_indexed']\n",
      "1\n"
     ]
    }
   ],
   "source": [
    "print(ohe_col_input_names)\n",
    "print(len(ohe_col_input_names))"
   ]
  },
  {
   "cell_type": "code",
   "execution_count": 25,
   "id": "infinite-davis",
   "metadata": {},
   "outputs": [
    {
     "name": "stdout",
     "output_type": "stream",
     "text": [
      "['Geography_ohe']\n",
      "1\n"
     ]
    }
   ],
   "source": [
    "print(ohe_col_output_names)\n",
    "print(len(ohe_col_output_names))"
   ]
  },
  {
   "cell_type": "code",
   "execution_count": 26,
   "id": "italian-upper",
   "metadata": {},
   "outputs": [],
   "source": [
    "encoder = OneHotEncoder() \\\n",
    ".setInputCols(ohe_col_input_names) \\\n",
    ".setOutputCols(ohe_col_output_names)"
   ]
  },
  {
   "cell_type": "code",
   "execution_count": 27,
   "id": "whole-rescue",
   "metadata": {},
   "outputs": [
    {
     "data": {
      "text/plain": [
       "['Gender_indexed']"
      ]
     },
     "execution_count": 27,
     "metadata": {},
     "output_type": "execute_result"
    }
   ],
   "source": [
    "# We have to exclude onehotencoded categoric cols from stringIndexer cols\n",
    "string_indexer_col_names_ohe_exluded = list(set(string_indexer_output_names).difference(set(ohe_col_input_names)))\n",
    "string_indexer_col_names_ohe_exluded"
   ]
  },
  {
   "cell_type": "code",
   "execution_count": 28,
   "id": "parliamentary-offer",
   "metadata": {},
   "outputs": [
    {
     "name": "stdout",
     "output_type": "stream",
     "text": [
      "Columns verified\n"
     ]
    }
   ],
   "source": [
    "if len(categoric_cols) == (len(string_indexer_col_names_ohe_exluded)+len(ohe_col_output_names)):\n",
    "    print(\"Columns verified\")\n",
    "else: print(\"Columns are not verified\")"
   ]
  },
  {
   "cell_type": "code",
   "execution_count": 29,
   "id": "assigned-warrior",
   "metadata": {},
   "outputs": [],
   "source": [
    "#df = df.withColumnRenamed(\"Exited\",\"label\")"
   ]
  },
  {
   "cell_type": "code",
   "execution_count": 30,
   "id": "accurate-greensboro",
   "metadata": {},
   "outputs": [
    {
     "data": {
      "text/plain": [
       "['RowNumber',\n",
       " 'CustomerId',\n",
       " 'Surname',\n",
       " 'CreditScore',\n",
       " 'Geography',\n",
       " 'Gender',\n",
       " 'Age',\n",
       " 'Tenure',\n",
       " 'Balance',\n",
       " 'NumOfProducts',\n",
       " 'HasCrCard',\n",
       " 'IsActiveMember',\n",
       " 'EstimatedSalary',\n",
       " 'Exited']"
      ]
     },
     "execution_count": 30,
     "metadata": {},
     "output_type": "execute_result"
    }
   ],
   "source": [
    "df.columns"
   ]
  },
  {
   "cell_type": "code",
   "execution_count": 31,
   "id": "flying-finder",
   "metadata": {},
   "outputs": [],
   "source": [
    "assembler = VectorAssembler().setHandleInvalid(\"skip\") \\\n",
    ".setInputCols(numeric_cols+string_indexer_col_names_ohe_exluded+ohe_col_output_names) \\\n",
    ".setOutputCol('assembled_features')"
   ]
  },
  {
   "cell_type": "code",
   "execution_count": 32,
   "id": "otherwise-mitchell",
   "metadata": {},
   "outputs": [],
   "source": [
    "label_indexer = StringIndexer().setHandleInvalid(\"skip\") \\\n",
    ".setInputCol(label_col[0]) \\\n",
    ".setOutputCol(\"label\")"
   ]
  },
  {
   "cell_type": "code",
   "execution_count": 33,
   "id": "macro-landing",
   "metadata": {},
   "outputs": [],
   "source": [
    "rf_c = RandomForestClassifier(featuresCol='assembled_features', labelCol='label',predictionCol='prediction')"
   ]
  },
  {
   "cell_type": "code",
   "execution_count": 34,
   "id": "level-watershed",
   "metadata": {},
   "outputs": [],
   "source": [
    "pipeline = Pipeline().setStages(string_indexer_objs+[encoder, assembler, label_indexer, rf_c])"
   ]
  },
  {
   "cell_type": "code",
   "execution_count": 35,
   "id": "mexican-induction",
   "metadata": {},
   "outputs": [],
   "source": [
    "from pyspark.ml.tuning import ParamGridBuilder\n",
    "paramGrid = ParamGridBuilder() \\\n",
    "    .addGrid(rf_c.numTrees, [int(x) for x in np.linspace(start = 10, stop = 50, num = 3)]) \\\n",
    "    .addGrid(rf_c.maxDepth, [int(x) for x in np.linspace(start = 5, stop = 25, num = 3)]) \\\n",
    "    .addGrid(rf_c.minInstancesPerNode , [int(x) for x in np.linspace(start = 5, stop = 25, num = 3)]) \\\n",
    "    .build()"
   ]
  },
  {
   "cell_type": "code",
   "execution_count": 36,
   "id": "qualified-concrete",
   "metadata": {},
   "outputs": [],
   "source": [
    "from pyspark.ml.tuning import CrossValidator\n",
    "from pyspark.ml.evaluation import BinaryClassificationEvaluator\n",
    "crossval = CrossValidator(estimator=pipeline,\n",
    "                          estimatorParamMaps=paramGrid,\n",
    "                          evaluator=BinaryClassificationEvaluator(),\n",
    "                          numFolds=5)"
   ]
  },
  {
   "cell_type": "code",
   "execution_count": 37,
   "id": "behind-philip",
   "metadata": {},
   "outputs": [],
   "source": [
    "(trainData, testData) = df.randomSplit([0.8, 0.2])"
   ]
  },
  {
   "cell_type": "code",
   "execution_count": 38,
   "id": "employed-defense",
   "metadata": {},
   "outputs": [
    {
     "name": "stdout",
     "output_type": "stream",
     "text": [
      "8002\n",
      "1998\n"
     ]
    }
   ],
   "source": [
    "print(trainData.count())\n",
    "print(testData.count())"
   ]
  },
  {
   "cell_type": "code",
   "execution_count": null,
   "id": "incident-basket",
   "metadata": {},
   "outputs": [],
   "source": [
    "crossval = crossval.fit(trainData)"
   ]
  },
  {
   "cell_type": "code",
   "execution_count": 39,
   "id": "muslim-disaster",
   "metadata": {},
   "outputs": [],
   "source": [
    "df_glb = spark.createDataFrame"
   ]
  },
  {
   "cell_type": "code",
   "execution_count": 123,
   "id": "armed-europe",
   "metadata": {},
   "outputs": [],
   "source": [
    "pred_schema = \"rowid int, customerid int, label float, prediction float\""
   ]
  },
  {
   "cell_type": "code",
   "execution_count": 135,
   "id": "several-humor",
   "metadata": {},
   "outputs": [],
   "source": [
    "# Postgresql connection string\n",
    "jdbcUrl = \"jdbc:postgresql://localhost/traindb?user=train&password=Ankara06\""
   ]
  },
  {
   "cell_type": "code",
   "execution_count": 198,
   "id": "satisfactory-ukraine",
   "metadata": {},
   "outputs": [],
   "source": [
    "def write_to_postgresql_sink(df, batchId):\n",
    "    df_postgres = df.select(\"customerid\", \"label\", \"prediction\")\n",
    "    df_postgres.show(5)\n",
    "    \n",
    "    # write postgresql\n",
    "    df_postgres.write.jdbc(url=jdbcUrl,\n",
    "                  table=\"churn_pred_results\",\n",
    "                  mode=\"append\",\n",
    "                  properties={\"driver\": 'org.postgresql.Driver'})\n",
    "    \n",
    "    return df_postgres"
   ]
  },
  {
   "cell_type": "code",
   "execution_count": null,
   "id": "optional-appliance",
   "metadata": {},
   "outputs": [],
   "source": []
  },
  {
   "cell_type": "code",
   "execution_count": 193,
   "id": "intellectual-fault",
   "metadata": {},
   "outputs": [],
   "source": [
    "CheckpointDir = \"file:///home/train/stream_to_postgres_checkpoint\""
   ]
  },
  {
   "cell_type": "markdown",
   "id": "relative-plate",
   "metadata": {},
   "source": []
  },
  {
   "cell_type": "code",
   "execution_count": 206,
   "id": "prescription-caribbean",
   "metadata": {},
   "outputs": [
    {
     "name": "stderr",
     "output_type": "stream",
     "text": [
      "Registered model 'spark-random-forest-class-model' already exists. Creating a new version of this model...\n",
      "2021/03/17 20:15:59 INFO mlflow.tracking._model_registry.client: Waiting up to 300 seconds for model version to finish creation.                     Model name: spark-random-forest-class-model, version 95\n",
      "Created version '95' of model 'spark-random-forest-class-model'.\n"
     ]
    },
    {
     "name": "stdout",
     "output_type": "stream",
     "text": [
      "+----------+-----+----------+\n",
      "|customerid|label|Prediction|\n",
      "+----------+-----+----------+\n",
      "|  15600882|  0.0|       0.0|\n",
      "|  15788218|  0.0|       0.0|\n",
      "|  15661507|  0.0|       0.0|\n",
      "|  15568982|  0.0|       0.0|\n",
      "|  15725737|  0.0|       0.0|\n",
      "+----------+-----+----------+\n",
      "only showing top 5 rows\n",
      "\n"
     ]
    }
   ],
   "source": [
    "with mlflow.start_run(run_name=\"spark-ChurnPrediction-random-forest\") as run:\n",
    "    # Log params:\n",
    "    mlflow.log_param(\"num_trees\", rf_c.getNumTrees())\n",
    "    mlflow.log_param(\"max_depth\", rf_c.getMaxDepth())\n",
    "    mlflow.log_param(\"max_bins\", rf_c.getMaxBins())\n",
    "\n",
    "    # Log model\n",
    "    pipelineModel = pipeline.fit(trainData)\n",
    "    mlflow.spark.log_model(pipelineModel, \"model\")\n",
    "\n",
    "    # Log metrics: RMSE and R2\n",
    "    predDF = pipelineModel.transform(testData)\n",
    "    df_glb = predDF\n",
    "    classificationEvaluator = BinaryClassificationEvaluator(labelCol=\"Exited\")\n",
    "    accuracy = classificationEvaluator.evaluate(predDF)\n",
    "    mlflow.log_metrics({\"accuracy\": accuracy})\n",
    "\n",
    "    # Log model register as version 1\n",
    "    mlflow.spark.log_model(\n",
    "        spark_model=pipelineModel,\n",
    "        artifact_path=\"spark-randomforest\",\n",
    "        registered_model_name=\"spark-random-forest-class-model\"\n",
    "    )\n",
    "    # After run you can go ui and see model http://localhost:5000/#/models\n",
    "    # Log artifact: feature importance scores\n",
    "    rfModel = pipelineModel.stages[-1]\n",
    "    pandasDF = (pd.DataFrame(list(zip(assembler.getInputCols(), rfModel.featureImportances)),\n",
    "                             columns=[\"feature\", \"importance\"]).sort_values(by=\"importance\", ascending=False))\n",
    "\n",
    "    # First write to local filesystem, then tell MLflow where to find that file\n",
    "    pandasDF.to_csv(\"churn-prediction-feature-importance.csv\", index=False)\n",
    "    mlflow.log_artifact(\"churn-prediction-feature-importance.csv\")\n",
    "\n",
    "    df_postgres = df_glb.select(\"customerid\", \"label\", \"Prediction\")\n",
    "    df_postgres.show(5)\n",
    "    \n",
    "    # write postgresql\n",
    "    df_postgres.write.jdbc(url=jdbcUrl,\n",
    "                  table=\"churn_pred_results\",\n",
    "                  mode=\"append\",\n",
    "                  properties={\"driver\": 'org.postgresql.Driver'})\n",
    "    \n",
    "    \n",
    "    # write predictions to csv\n",
    "#    df_glb.select('customerid', 'label', 'prediction').toPandas().to_csv('/home/train/PROJECT/prediction_results.csv')\n",
    "    \n",
    "    #readstream data\n",
    "#    lines = (spark\n",
    "#         .readStream.format(\"csv\")\n",
    "#         .schema(pred_schema)\n",
    "#         .option(\"header\", True)\n",
    "#         .load(\"file:///home/train/PROJECT\"))\n",
    "    \n",
    "    # start streaming\n",
    "#    streamingQuery = (lines\n",
    "#                  .writeStream\n",
    "#                  .foreachBatch(write_to_postgresql_sink)\n",
    "#                  .option(\"checkpointLocation\", CheckpointDir)\n",
    "#                  .start())\n",
    "    #\n",
    "#    #streamingQuery.awaitTermination()"
   ]
  },
  {
   "cell_type": "code",
   "execution_count": 195,
   "id": "amazing-central",
   "metadata": {},
   "outputs": [
    {
     "name": "stdout",
     "output_type": "stream",
     "text": [
      "+----------+-----+----------+\n",
      "|customerid|label|prediction|\n",
      "+----------+-----+----------+\n",
      "|  15600882|  0.0|       0.0|\n",
      "|  15788218|  0.0|       0.0|\n",
      "|  15661507|  0.0|       0.0|\n",
      "|  15568982|  0.0|       0.0|\n",
      "|  15725737|  0.0|       0.0|\n",
      "+----------+-----+----------+\n",
      "only showing top 5 rows\n",
      "\n"
     ]
    }
   ],
   "source": [
    "df_glb.select('CustomerId', 'Exited', 'Prediction').toPandas().to_csv('mycsv.csv')"
   ]
  },
  {
   "cell_type": "code",
   "execution_count": 108,
   "id": "partial-anderson",
   "metadata": {},
   "outputs": [
    {
     "data": {
      "text/html": [
       "<div>\n",
       "<style scoped>\n",
       "    .dataframe tbody tr th:only-of-type {\n",
       "        vertical-align: middle;\n",
       "    }\n",
       "\n",
       "    .dataframe tbody tr th {\n",
       "        vertical-align: top;\n",
       "    }\n",
       "\n",
       "    .dataframe thead th {\n",
       "        text-align: right;\n",
       "    }\n",
       "</style>\n",
       "<table border=\"1\" class=\"dataframe\">\n",
       "  <thead>\n",
       "    <tr style=\"text-align: right;\">\n",
       "      <th></th>\n",
       "      <th>CustomerId</th>\n",
       "      <th>label</th>\n",
       "      <th>prediction</th>\n",
       "    </tr>\n",
       "  </thead>\n",
       "  <tbody>\n",
       "    <tr>\n",
       "      <th>0</th>\n",
       "      <td>15600882</td>\n",
       "      <td>0.0</td>\n",
       "      <td>0.0</td>\n",
       "    </tr>\n",
       "    <tr>\n",
       "      <th>1</th>\n",
       "      <td>15788218</td>\n",
       "      <td>0.0</td>\n",
       "      <td>0.0</td>\n",
       "    </tr>\n",
       "    <tr>\n",
       "      <th>2</th>\n",
       "      <td>15661507</td>\n",
       "      <td>0.0</td>\n",
       "      <td>0.0</td>\n",
       "    </tr>\n",
       "    <tr>\n",
       "      <th>3</th>\n",
       "      <td>15568982</td>\n",
       "      <td>0.0</td>\n",
       "      <td>0.0</td>\n",
       "    </tr>\n",
       "    <tr>\n",
       "      <th>4</th>\n",
       "      <td>15725737</td>\n",
       "      <td>0.0</td>\n",
       "      <td>0.0</td>\n",
       "    </tr>\n",
       "  </tbody>\n",
       "</table>\n",
       "</div>"
      ],
      "text/plain": [
       "   CustomerId  label  prediction\n",
       "0    15600882    0.0         0.0\n",
       "1    15788218    0.0         0.0\n",
       "2    15661507    0.0         0.0\n",
       "3    15568982    0.0         0.0\n",
       "4    15725737    0.0         0.0"
      ]
     },
     "execution_count": 108,
     "metadata": {},
     "output_type": "execute_result"
    }
   ],
   "source": [
    "df_glb.select('CustomerId', 'label', 'prediction').limit(5).toPandas()"
   ]
  },
  {
   "cell_type": "code",
   "execution_count": 203,
   "id": "yellow-magnet",
   "metadata": {},
   "outputs": [
    {
     "data": {
      "text/plain": [
       "['RowNumber',\n",
       " 'CustomerId',\n",
       " 'Surname',\n",
       " 'CreditScore',\n",
       " 'Geography',\n",
       " 'Gender',\n",
       " 'Age',\n",
       " 'Tenure',\n",
       " 'Balance',\n",
       " 'NumOfProducts',\n",
       " 'HasCrCard',\n",
       " 'IsActiveMember',\n",
       " 'EstimatedSalary',\n",
       " 'Exited',\n",
       " 'Geography_indexed',\n",
       " 'Gender_indexed',\n",
       " 'Geography_ohe',\n",
       " 'assembled_features',\n",
       " 'label',\n",
       " 'rawPrediction',\n",
       " 'probability',\n",
       " 'prediction']"
      ]
     },
     "execution_count": 203,
     "metadata": {},
     "output_type": "execute_result"
    }
   ],
   "source": [
    "df_glb.columns"
   ]
  },
  {
   "cell_type": "code",
   "execution_count": null,
   "id": "automotive-london",
   "metadata": {},
   "outputs": [],
   "source": []
  },
  {
   "cell_type": "code",
   "execution_count": null,
   "id": "increased-freeware",
   "metadata": {},
   "outputs": [],
   "source": []
  },
  {
   "cell_type": "code",
   "execution_count": null,
   "id": "christian-letter",
   "metadata": {},
   "outputs": [],
   "source": []
  }
 ],
 "metadata": {
  "kernelspec": {
   "display_name": "venvspark",
   "language": "python",
   "name": "venvspark"
  },
  "language_info": {
   "codemirror_mode": {
    "name": "ipython",
    "version": 3
   },
   "file_extension": ".py",
   "mimetype": "text/x-python",
   "name": "python",
   "nbconvert_exporter": "python",
   "pygments_lexer": "ipython3",
   "version": "3.6.8"
  }
 },
 "nbformat": 4,
 "nbformat_minor": 5
}
